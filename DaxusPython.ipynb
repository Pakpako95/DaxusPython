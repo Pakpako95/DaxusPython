{
  "cells": [
    {
      "cell_type": "markdown",
      "metadata": {
        "colab_type": "text",
        "id": "view-in-github"
      },
      "source": [
        "<a href=\"https://colab.research.google.com/github/Pakpako95/DaxusPython/blob/main/DaxusPython.ipynb\" target=\"_parent\"><img src=\"https://colab.research.google.com/assets/colab-badge.svg\" alt=\"Open In Colab\"/></a>"
      ]
    },
    {
      "cell_type": "markdown",
      "metadata": {
        "id": "O6Lm0ksM7rIu"
      },
      "source": [
        "### 🐍 **Curso de Python de Daxus latam.**"
      ]
    },
    {
      "cell_type": "markdown",
      "metadata": {
        "id": "VkC1CTOh70wh"
      },
      "source": [
        "El enfoque de este curso es interesante porque se enfoca en mostrar funcionalidades prácticas en el día a día de una persona normal."
      ]
    },
    {
      "cell_type": "markdown",
      "metadata": {
        "id": "Gal8eUSF8voZ"
      },
      "source": [
        "#### 💠**Comando print()**"
      ]
    },
    {
      "cell_type": "markdown",
      "metadata": {
        "id": "-9aGT9KX8F60"
      },
      "source": [
        "`print()` Para presentar información al usuario"
      ]
    },
    {
      "cell_type": "code",
      "execution_count": 1,
      "metadata": {
        "colab": {
          "base_uri": "https://localhost:8080/"
        },
        "id": "rLfiI0F07fx1",
        "outputId": "e4933656-5e0d-48cd-ccf6-44067cbf1a45"
      },
      "outputs": [
        {
          "name": "stdout",
          "output_type": "stream",
          "text": [
            "Semana de Python con Daxus\n"
          ]
        }
      ],
      "source": [
        "print(\"Semana de Python con Daxus\")"
      ]
    },
    {
      "cell_type": "markdown",
      "metadata": {
        "id": "nze1WPYG84WO"
      },
      "source": [
        "#### 💠**Comando input()**"
      ]
    },
    {
      "cell_type": "markdown",
      "metadata": {
        "id": "TdY6XyuW94Fs"
      },
      "source": [
        "`input()` Para solicitar información al usuario"
      ]
    },
    {
      "cell_type": "code",
      "execution_count": 2,
      "metadata": {
        "colab": {
          "base_uri": "https://localhost:8080/",
          "height": 73
        },
        "id": "itVv6pGS8tWC",
        "outputId": "915b6a75-10d3-48cd-c4a0-114fef8fed61"
      },
      "outputs": [
        {
          "data": {
            "text/plain": [
              "'Python'"
            ]
          },
          "execution_count": 2,
          "metadata": {},
          "output_type": "execute_result"
        }
      ],
      "source": [
        "input(\"Escribe tu nombre: \")\n",
        "input(\"Cuál es el mejor lenguaje de programación del mundo? \")"
      ]
    },
    {
      "cell_type": "markdown",
      "metadata": {
        "id": "wOQR5AIC-DFm"
      },
      "source": [
        "#### 💠**Almacenando datos en variables**"
      ]
    },
    {
      "cell_type": "markdown",
      "metadata": {
        "id": "V-2pzHZw-DFn"
      },
      "source": [
        "Comprendiendo el concepto de variables"
      ]
    },
    {
      "cell_type": "code",
      "execution_count": 3,
      "metadata": {
        "id": "ojZ9lzVo-DFn"
      },
      "outputs": [],
      "source": [
        "proyecto = \"Primer proyecto con Python\"\n",
        "numero = 10"
      ]
    },
    {
      "cell_type": "code",
      "execution_count": 4,
      "metadata": {
        "colab": {
          "base_uri": "https://localhost:8080/"
        },
        "id": "j8a23o9J_Rb7",
        "outputId": "6aad1b53-66c8-4657-e46e-d26b6af838f0"
      },
      "outputs": [
        {
          "name": "stdout",
          "output_type": "stream",
          "text": [
            "Primer proyecto con Python\n"
          ]
        }
      ],
      "source": [
        "print(proyecto)"
      ]
    },
    {
      "cell_type": "code",
      "execution_count": 5,
      "metadata": {
        "colab": {
          "base_uri": "https://localhost:8080/",
          "height": 36
        },
        "id": "Hor_zxnX_m6z",
        "outputId": "bb275f31-8765-4f00-8c42-a9b4f160a39f"
      },
      "outputs": [
        {
          "data": {
            "text/plain": [
              "'Primer proyecto con Python'"
            ]
          },
          "execution_count": 5,
          "metadata": {},
          "output_type": "execute_result"
        }
      ],
      "source": [
        "proyecto"
      ]
    },
    {
      "cell_type": "code",
      "execution_count": 6,
      "metadata": {
        "colab": {
          "base_uri": "https://localhost:8080/"
        },
        "id": "H618SuP1AcIQ",
        "outputId": "96d38238-18ba-4d4c-da23-334eb2d26b25"
      },
      "outputs": [
        {
          "data": {
            "text/plain": [
              "10"
            ]
          },
          "execution_count": 6,
          "metadata": {},
          "output_type": "execute_result"
        }
      ],
      "source": [
        "numero"
      ]
    },
    {
      "cell_type": "markdown",
      "metadata": {
        "id": "RO8r4ZAdAycW"
      },
      "source": [
        "#### 💠**Usando los conceptos juntos**"
      ]
    },
    {
      "cell_type": "markdown",
      "metadata": {
        "id": "xAQ-E_1PAycW"
      },
      "source": [
        "Comprendiendo el concepto de variables"
      ]
    },
    {
      "cell_type": "code",
      "execution_count": 7,
      "metadata": {
        "colab": {
          "base_uri": "https://localhost:8080/"
        },
        "id": "Hx4L5UFvAycW",
        "outputId": "d9202251-3bcb-4a41-c2d9-8f2a9e266546"
      },
      "outputs": [],
      "source": [
        "proyecto = input(\"Digita la descripción del proyecto: \")\n",
        "horas_estimadas = input(\"Digita la cantidad de horas estimadas: \")\n",
        "valor_hora = input(\"Digita el valor de la hora trabajada: \")\n",
        "tiempo_estimado = input(\"Digita el plazo estimado para finalizar el proyecto: \")"
      ]
    },
    {
      "cell_type": "code",
      "execution_count": 8,
      "metadata": {
        "colab": {
          "base_uri": "https://localhost:8080/"
        },
        "id": "OWugOoWXAycX",
        "outputId": "f4ccced4-f010-40d1-c403-206443bfd908"
      },
      "outputs": [
        {
          "name": "stdout",
          "output_type": "stream",
          "text": [
            "Proyecto X para pruebas\n",
            "120\n",
            "100\n",
            "2 meses\n"
          ]
        }
      ],
      "source": [
        "print(proyecto)\n",
        "print(horas_estimadas)\n",
        "print(valor_hora)\n",
        "print(tiempo_estimado)"
      ]
    },
    {
      "cell_type": "markdown",
      "metadata": {
        "id": "yjfBjYtACtmj"
      },
      "source": [
        "#### 💠**Cálculos con Python**"
      ]
    },
    {
      "cell_type": "markdown",
      "metadata": {
        "id": "NoFs5mRpCtmj"
      },
      "source": [
        "Conociendo cómo se hacen los cálculos con Python"
      ]
    },
    {
      "cell_type": "code",
      "execution_count": 9,
      "metadata": {
        "colab": {
          "base_uri": "https://localhost:8080/"
        },
        "id": "ICLskDzUCtmk",
        "outputId": "05c77460-4dc4-4293-fab2-08d4a9287d8e"
      },
      "outputs": [
        {
          "name": "stdout",
          "output_type": "stream",
          "text": [
            "150\n",
            "50\n",
            "5000\n",
            "2.0\n"
          ]
        }
      ],
      "source": [
        "print(100+50)\n",
        "print(100-50)\n",
        "print(100*50)\n",
        "print(100/50)"
      ]
    },
    {
      "cell_type": "markdown",
      "metadata": {
        "id": "TtyIhFVIDg0G"
      },
      "source": [
        "**Comando int()** Convierte un texto a un valor numérico (integer)"
      ]
    },
    {
      "cell_type": "code",
      "execution_count": 10,
      "metadata": {
        "id": "3En3raiwCtml"
      },
      "outputs": [],
      "source": [
        "valor_total = int(horas_estimadas) * int(valor_hora)"
      ]
    },
    {
      "cell_type": "code",
      "execution_count": 11,
      "metadata": {
        "colab": {
          "base_uri": "https://localhost:8080/"
        },
        "id": "8t9djgTkDzTC",
        "outputId": "eb5a64f5-e7ac-41e2-f2a4-2fcae7641c1f"
      },
      "outputs": [
        {
          "data": {
            "text/plain": [
              "12000"
            ]
          },
          "execution_count": 11,
          "metadata": {},
          "output_type": "execute_result"
        }
      ],
      "source": [
        "valor_total"
      ]
    },
    {
      "cell_type": "markdown",
      "metadata": {
        "id": "7pb9KkxXEFk6"
      },
      "source": [
        "#### 💠**Generando archivo PDF**"
      ]
    },
    {
      "cell_type": "markdown",
      "metadata": {
        "id": "sUn3AqM-EFk6"
      },
      "source": [
        "Conociendo cómo se hacen los cálculos con Python"
      ]
    },
    {
      "cell_type": "markdown",
      "metadata": {
        "id": "CDEr2ED6EFk7"
      },
      "source": [
        "**! pip install fpdf**\n",
        "\n",
        "Descarga la librería para generar el pdf."
      ]
    },
    {
      "cell_type": "code",
      "execution_count": 12,
      "metadata": {
        "colab": {
          "base_uri": "https://localhost:8080/"
        },
        "id": "7B9ahE5oEFk7",
        "outputId": "2e7e4a29-91ae-49ec-a9a4-0dd963f9d7f1"
      },
      "outputs": [
        {
          "name": "stdout",
          "output_type": "stream",
          "text": [
            "Defaulting to user installation because normal site-packages is not writeable\n",
            "Collecting fpdf\n",
            "  Downloading fpdf-1.7.2.tar.gz (39 kB)\n",
            "  Installing build dependencies: started\n",
            "  Installing build dependencies: finished with status 'done'\n",
            "  Getting requirements to build wheel: started\n",
            "  Getting requirements to build wheel: finished with status 'done'\n",
            "  Preparing metadata (pyproject.toml): started\n",
            "  Preparing metadata (pyproject.toml): finished with status 'done'\n",
            "Building wheels for collected packages: fpdf\n",
            "  Building wheel for fpdf (pyproject.toml): started\n",
            "  Building wheel for fpdf (pyproject.toml): finished with status 'done'\n",
            "  Created wheel for fpdf: filename=fpdf-1.7.2-py2.py3-none-any.whl size=40769 sha256=1da9ed113eb55195552dc5dab5924db7a7afb370acd381072848233ccbb6f8ba\n",
            "  Stored in directory: c:\\users\\lfgcm\\appdata\\local\\pip\\cache\\wheels\\aa\\da\\11\\a3189f34ddc13c26a2d0f329eac46b728c7f31c39e4dc26243\n",
            "Successfully built fpdf\n",
            "Installing collected packages: fpdf\n",
            "Successfully installed fpdf-1.7.2\n"
          ]
        }
      ],
      "source": [
        "! pip install fpdf"
      ]
    },
    {
      "cell_type": "markdown",
      "metadata": {
        "id": "Js4us5XRFdDX"
      },
      "source": [
        "**from fdpf import FPDF**\n",
        "\n",
        "Importa la funcionalidad FPDF de la librería fpdf."
      ]
    },
    {
      "cell_type": "code",
      "execution_count": 13,
      "metadata": {
        "id": "V7aonkM1EFk7"
      },
      "outputs": [],
      "source": [
        "from fpdf import FPDF"
      ]
    },
    {
      "cell_type": "code",
      "execution_count": 32,
      "metadata": {
        "colab": {
          "base_uri": "https://localhost:8080/",
          "height": 36
        },
        "id": "IO-QeCw_EFk7",
        "outputId": "a615dd71-905a-4265-ca96-7c23082c099e"
      },
      "outputs": [
        {
          "name": "stdout",
          "output_type": "stream",
          "text": [
            "PDF generado con éxito\n"
          ]
        }
      ],
      "source": [
        "pdf = FPDF()\n",
        "\n",
        "pdf.add_page() # Agregar una página al pdf que se está creando\n",
        "pdf.set_font(\"Arial\", size=12) # Se define la fuente que se usará para la exportación\n",
        "\n",
        "pdf.image(\"image.jpg\", 0, 0)\n",
        "\n",
        "pdf.text(60, 65, \"Generando un PDF desde Python :D\")\n",
        "pdf.text(60, 85, \"Nombre del proyecto: \"+proyecto)\n",
        "pdf.text(60, 105, \"Horas estimadas del proyecto: \"+horas_estimadas)\n",
        "pdf.text(60, 125, \"Costo por hora: \"+valor_hora) \n",
        "pdf.text(60, 145, \"Plazo estimado: \"+tiempo_estimado)\n",
        "pdf.text(60, 165, \"El valor total es: \"+str(valor_total)) # Se convierte el valor total a string para evitar errores\n",
        "pdf.text(60, 185, \"Esperamos su aprobación para iniciar el proyecto\")\n",
        "\n",
        "pdf.output(\"Presupuesto.pdf\")\n",
        "print(\"PDF generado con éxito\")"
      ]
    }
  ],
  "metadata": {
    "colab": {
      "authorship_tag": "ABX9TyP1nanU5PtKFLCm8Y/uQEB3",
      "collapsed_sections": [
        "Gal8eUSF8voZ",
        "nze1WPYG84WO",
        "RO8r4ZAdAycW",
        "yjfBjYtACtmj"
      ],
      "include_colab_link": true,
      "provenance": []
    },
    "kernelspec": {
      "display_name": "Python 3",
      "name": "python3"
    },
    "language_info": {
      "codemirror_mode": {
        "name": "ipython",
        "version": 3
      },
      "file_extension": ".py",
      "mimetype": "text/x-python",
      "name": "python",
      "nbconvert_exporter": "python",
      "pygments_lexer": "ipython3",
      "version": "3.13.3"
    }
  },
  "nbformat": 4,
  "nbformat_minor": 0
}
