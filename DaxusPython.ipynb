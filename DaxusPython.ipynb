{
  "nbformat": 4,
  "nbformat_minor": 0,
  "metadata": {
    "colab": {
      "provenance": [],
      "collapsed_sections": [
        "Gal8eUSF8voZ",
        "nze1WPYG84WO",
        "RO8r4ZAdAycW",
        "yjfBjYtACtmj"
      ],
      "authorship_tag": "ABX9TyP1nanU5PtKFLCm8Y/uQEB3",
      "include_colab_link": true
    },
    "kernelspec": {
      "name": "python3",
      "display_name": "Python 3"
    },
    "language_info": {
      "name": "python"
    }
  },
  "cells": [
    {
      "cell_type": "markdown",
      "metadata": {
        "id": "view-in-github",
        "colab_type": "text"
      },
      "source": [
        "<a href=\"https://colab.research.google.com/github/Pakpako95/DaxusPython/blob/main/DaxusPython.ipynb\" target=\"_parent\"><img src=\"https://colab.research.google.com/assets/colab-badge.svg\" alt=\"Open In Colab\"/></a>"
      ]
    },
    {
      "cell_type": "markdown",
      "source": [
        "### 🐍 **Curso de Python de Daxus latam.**"
      ],
      "metadata": {
        "id": "O6Lm0ksM7rIu"
      }
    },
    {
      "cell_type": "markdown",
      "source": [
        "El enfoque de este curso es interesante porque se enfoca en mostrar funcionalidades prácticas en el día a día de una persona normal."
      ],
      "metadata": {
        "id": "VkC1CTOh70wh"
      }
    },
    {
      "cell_type": "markdown",
      "source": [
        "#### 💠**Comando print()**"
      ],
      "metadata": {
        "id": "Gal8eUSF8voZ"
      }
    },
    {
      "cell_type": "markdown",
      "source": [
        "`print()` Para presentar información al usuario"
      ],
      "metadata": {
        "id": "-9aGT9KX8F60"
      }
    },
    {
      "cell_type": "code",
      "execution_count": 2,
      "metadata": {
        "colab": {
          "base_uri": "https://localhost:8080/"
        },
        "id": "rLfiI0F07fx1",
        "outputId": "e4933656-5e0d-48cd-ccf6-44067cbf1a45"
      },
      "outputs": [
        {
          "output_type": "stream",
          "name": "stdout",
          "text": [
            "Semana de Python con Daxus\n"
          ]
        }
      ],
      "source": [
        "print(\"Semana de Python con Daxus\")"
      ]
    },
    {
      "cell_type": "markdown",
      "source": [
        "#### 💠**Comando input()**"
      ],
      "metadata": {
        "id": "nze1WPYG84WO"
      }
    },
    {
      "cell_type": "markdown",
      "source": [
        "`input()` Para solicitar información al usuario"
      ],
      "metadata": {
        "id": "TdY6XyuW94Fs"
      }
    },
    {
      "cell_type": "code",
      "source": [
        "input(\"Escribe tu nombre: \")\n",
        "input(\"Cuál es el mejor lenguaje de programación del mundo? \")"
      ],
      "metadata": {
        "colab": {
          "base_uri": "https://localhost:8080/",
          "height": 73
        },
        "id": "itVv6pGS8tWC",
        "outputId": "915b6a75-10d3-48cd-c4a0-114fef8fed61"
      },
      "execution_count": 4,
      "outputs": [
        {
          "name": "stdout",
          "output_type": "stream",
          "text": [
            "Escribe tu nombre: Paco\n",
            "Cuál es el mejor lenguaje de programación del mundo? Python\n"
          ]
        },
        {
          "output_type": "execute_result",
          "data": {
            "text/plain": [
              "'Python'"
            ],
            "application/vnd.google.colaboratory.intrinsic+json": {
              "type": "string"
            }
          },
          "metadata": {},
          "execution_count": 4
        }
      ]
    },
    {
      "cell_type": "markdown",
      "source": [
        "#### 💠**Almacenando datos en variables**"
      ],
      "metadata": {
        "id": "wOQR5AIC-DFm"
      }
    },
    {
      "cell_type": "markdown",
      "source": [
        "Comprendiendo el concepto de variables"
      ],
      "metadata": {
        "id": "V-2pzHZw-DFn"
      }
    },
    {
      "cell_type": "code",
      "source": [
        "proyecto = \"Primer proyecto con Python\"\n",
        "numero = 10"
      ],
      "metadata": {
        "id": "ojZ9lzVo-DFn"
      },
      "execution_count": 9,
      "outputs": []
    },
    {
      "cell_type": "code",
      "source": [
        "print(proyecto)"
      ],
      "metadata": {
        "colab": {
          "base_uri": "https://localhost:8080/"
        },
        "id": "j8a23o9J_Rb7",
        "outputId": "6aad1b53-66c8-4657-e46e-d26b6af838f0"
      },
      "execution_count": 6,
      "outputs": [
        {
          "output_type": "stream",
          "name": "stdout",
          "text": [
            "Primer proyecto con Python\n"
          ]
        }
      ]
    },
    {
      "cell_type": "code",
      "source": [
        "proyecto"
      ],
      "metadata": {
        "colab": {
          "base_uri": "https://localhost:8080/",
          "height": 36
        },
        "id": "Hor_zxnX_m6z",
        "outputId": "bb275f31-8765-4f00-8c42-a9b4f160a39f"
      },
      "execution_count": 11,
      "outputs": [
        {
          "output_type": "execute_result",
          "data": {
            "text/plain": [
              "'Primer proyecto con Python'"
            ],
            "application/vnd.google.colaboratory.intrinsic+json": {
              "type": "string"
            }
          },
          "metadata": {},
          "execution_count": 11
        }
      ]
    },
    {
      "cell_type": "code",
      "source": [
        "numero"
      ],
      "metadata": {
        "colab": {
          "base_uri": "https://localhost:8080/"
        },
        "id": "H618SuP1AcIQ",
        "outputId": "96d38238-18ba-4d4c-da23-334eb2d26b25"
      },
      "execution_count": 12,
      "outputs": [
        {
          "output_type": "execute_result",
          "data": {
            "text/plain": [
              "10"
            ]
          },
          "metadata": {},
          "execution_count": 12
        }
      ]
    },
    {
      "cell_type": "markdown",
      "source": [
        "#### 💠**Usando los conceptos juntos**"
      ],
      "metadata": {
        "id": "RO8r4ZAdAycW"
      }
    },
    {
      "cell_type": "markdown",
      "source": [
        "Comprendiendo el concepto de variables"
      ],
      "metadata": {
        "id": "xAQ-E_1PAycW"
      }
    },
    {
      "cell_type": "code",
      "source": [
        "proyecto = input(\"Digita la descripción del proyecto: \")\n",
        "horas_estimadas = input(\"Digita la cantidad de horas estimadas: \")\n",
        "valor_hora = input(\"Digita el valor de la hora trabajada: \")\n",
        "tiempo_estimado = input(\"Digita el plazo estimado para finalizar el proyecto: \")"
      ],
      "metadata": {
        "colab": {
          "base_uri": "https://localhost:8080/"
        },
        "id": "Hx4L5UFvAycW",
        "outputId": "d9202251-3bcb-4a41-c2d9-8f2a9e266546"
      },
      "execution_count": 15,
      "outputs": [
        {
          "name": "stdout",
          "output_type": "stream",
          "text": [
            "Digita la descripción del proyecto: Proyecto X\n",
            "Digita la cantidad de horas estimadas: 120\n",
            "Digita el valor de la hora trabajada: 80\n",
            "Digita el plazo estimado para finalizar el proyecto: 2 meses\n"
          ]
        }
      ]
    },
    {
      "cell_type": "code",
      "source": [
        "print(proyecto)\n",
        "print(horas_estimadas)\n",
        "print(valor_hora)\n",
        "print(tiempo_estimado)"
      ],
      "metadata": {
        "colab": {
          "base_uri": "https://localhost:8080/"
        },
        "outputId": "f4ccced4-f010-40d1-c403-206443bfd908",
        "id": "OWugOoWXAycX"
      },
      "execution_count": 17,
      "outputs": [
        {
          "output_type": "stream",
          "name": "stdout",
          "text": [
            "Proyecto X\n",
            "120\n",
            "80\n",
            "2 meses\n"
          ]
        }
      ]
    },
    {
      "cell_type": "markdown",
      "source": [
        "#### 💠**Cálculos con Python**"
      ],
      "metadata": {
        "id": "yjfBjYtACtmj"
      }
    },
    {
      "cell_type": "markdown",
      "source": [
        "Conociendo cómo se hacen los cálculos con Python"
      ],
      "metadata": {
        "id": "NoFs5mRpCtmj"
      }
    },
    {
      "cell_type": "code",
      "source": [
        "print(100+50)\n",
        "print(100-50)\n",
        "print(100*50)\n",
        "print(100/50)"
      ],
      "metadata": {
        "colab": {
          "base_uri": "https://localhost:8080/"
        },
        "outputId": "05c77460-4dc4-4293-fab2-08d4a9287d8e",
        "id": "ICLskDzUCtmk"
      },
      "execution_count": 18,
      "outputs": [
        {
          "output_type": "stream",
          "name": "stdout",
          "text": [
            "150\n",
            "50\n",
            "5000\n",
            "2.0\n"
          ]
        }
      ]
    },
    {
      "cell_type": "markdown",
      "source": [
        "**Comando int()** Convierte un texto a un valor numérico (integer)"
      ],
      "metadata": {
        "id": "TtyIhFVIDg0G"
      }
    },
    {
      "cell_type": "code",
      "source": [
        "valor_total = int(horas_estimadas) * int(valor_hora)"
      ],
      "metadata": {
        "id": "3En3raiwCtml"
      },
      "execution_count": 22,
      "outputs": []
    },
    {
      "cell_type": "code",
      "source": [
        "valor_total"
      ],
      "metadata": {
        "colab": {
          "base_uri": "https://localhost:8080/"
        },
        "id": "8t9djgTkDzTC",
        "outputId": "eb5a64f5-e7ac-41e2-f2a4-2fcae7641c1f"
      },
      "execution_count": 23,
      "outputs": [
        {
          "output_type": "execute_result",
          "data": {
            "text/plain": [
              "9600"
            ]
          },
          "metadata": {},
          "execution_count": 23
        }
      ]
    },
    {
      "cell_type": "markdown",
      "source": [
        "#### 💠**Generando archivo PDF**"
      ],
      "metadata": {
        "id": "7pb9KkxXEFk6"
      }
    },
    {
      "cell_type": "markdown",
      "source": [
        "Conociendo cómo se hacen los cálculos con Python"
      ],
      "metadata": {
        "id": "sUn3AqM-EFk6"
      }
    },
    {
      "cell_type": "markdown",
      "source": [
        "**! pip install fpdf**\n",
        "\n",
        "Descarga la librería para generar el pdf."
      ],
      "metadata": {
        "id": "CDEr2ED6EFk7"
      }
    },
    {
      "cell_type": "code",
      "source": [
        "! pip install fpdf"
      ],
      "metadata": {
        "colab": {
          "base_uri": "https://localhost:8080/"
        },
        "outputId": "2e7e4a29-91ae-49ec-a9a4-0dd963f9d7f1",
        "id": "7B9ahE5oEFk7"
      },
      "execution_count": 24,
      "outputs": [
        {
          "output_type": "stream",
          "name": "stdout",
          "text": [
            "Collecting fpdf\n",
            "  Downloading fpdf-1.7.2.tar.gz (39 kB)\n",
            "  Preparing metadata (setup.py) ... \u001b[?25l\u001b[?25hdone\n",
            "Building wheels for collected packages: fpdf\n",
            "  Building wheel for fpdf (setup.py) ... \u001b[?25l\u001b[?25hdone\n",
            "  Created wheel for fpdf: filename=fpdf-1.7.2-py2.py3-none-any.whl size=40704 sha256=d73c96851237d9aec9fe02920ba937985380a8e33544640e13f62af2f4cf8750\n",
            "  Stored in directory: /root/.cache/pip/wheels/65/4f/66/bbda9866da446a72e206d6484cd97381cbc7859a7068541c36\n",
            "Successfully built fpdf\n",
            "Installing collected packages: fpdf\n",
            "Successfully installed fpdf-1.7.2\n"
          ]
        }
      ]
    },
    {
      "cell_type": "markdown",
      "source": [
        "**from fdpf import FPDF**\n",
        "\n",
        "Importa la funcionalidad FPDF de la librería fpdf."
      ],
      "metadata": {
        "id": "Js4us5XRFdDX"
      }
    },
    {
      "cell_type": "code",
      "source": [
        "from fpdf import FPDF"
      ],
      "metadata": {
        "id": "V7aonkM1EFk7"
      },
      "execution_count": 25,
      "outputs": []
    },
    {
      "cell_type": "code",
      "source": [
        "pdf = FPDF()\n",
        "\n",
        "pdf.add_page() # Agregar una página al pdf que se está creando\n",
        "pdf.set_font(\"Arial\", size=12) # Se define la fuente que se usará para la exportación\n",
        "\n",
        "pdf.output(\"Presupuesto.pdf\")"
      ],
      "metadata": {
        "colab": {
          "base_uri": "https://localhost:8080/",
          "height": 36
        },
        "outputId": "a615dd71-905a-4265-ca96-7c23082c099e",
        "id": "IO-QeCw_EFk7"
      },
      "execution_count": 27,
      "outputs": [
        {
          "output_type": "execute_result",
          "data": {
            "text/plain": [
              "''"
            ],
            "application/vnd.google.colaboratory.intrinsic+json": {
              "type": "string"
            }
          },
          "metadata": {},
          "execution_count": 27
        }
      ]
    }
  ]
}